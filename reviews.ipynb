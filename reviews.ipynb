{
  "nbformat": 4,
  "nbformat_minor": 0,
  "metadata": {
    "colab": {
      "name": "PS1-Reviews.ipynb",
      "provenance": [],
      "include_colab_link": true
    },
    "kernelspec": {
      "name": "python3",
      "display_name": "Python 3"
    }
  },
  "cells": [
    {
      "cell_type": "markdown",
      "metadata": {
        "id": "view-in-github",
        "colab_type": "text"
      },
      "source": [
        "<a href=\"https://colab.research.google.com/github/yuezhang23/nlp/blob/main/reviews.ipynb\" target=\"_parent\"><img src=\"https://colab.research.google.com/assets/colab-badge.svg\" alt=\"Open In Colab\"/></a>"
      ]
    },
    {
      "cell_type": "markdown",
      "metadata": {
        "id": "Jc2R3x6QSIFi"
      },
      "source": [
        "# Predicting Sentiment Labels\n",
        "\n",
        "In this experiment, you will explore the accuracy of sentiment classificaiton using different feature representations of text documents.\n",
        "\n",
        "First, you will implement `createBasicFeatures`, which creates a sparse matrix representation of a collection of documents.  As we discussed in class, many classification models represent a document as a sparse vector of of features and their weights. Weights could be boolean, counts, tf-idf values, or other functions of the document. In a linear model, we then combine the document vectors with the candidate output classes and learn weights for each of the feature-class pairs. This last step is implemented for you.\n",
        "\n",
        "For this exercise, you should have a feature for each word containing at least one alphabetic character. You may use the `numpy` and `sklearn` packages to help with implementing a sparse matrix.\n",
        "\n",
        "Then, you will implement `createFancyFeatures`, which can specify at any other features you choose to help improve performance on the classification task.\n",
        "\n",
        "The two code blocks at the end train and evaluate two models—logistic regression with L1 and L2 regularization—using your featurization functions. Besides held-out classification accuracy with 10-fold cross-validation, you will also see the features in each class given high weights by the model.\n",
        "\n",
        "There are many helpful resources online for getting up to speed with vector representations of documents. One example is the first two chapters of Delip Rao and Brian McMahan, _Natural Language Processing with PyTorch_, O'Reilly, 2019.  You should be able to <a href=\"https://learning.oreilly.com/library/view/natural-language-processing/9781491978221/\">read it online</a> via the Northeastern Library's subscription using a <tt>northeastern.edu</tt> email address."
      ]
    },
    {
      "cell_type": "code",
      "metadata": {
        "id": "AdVS67_HNRmW"
      },
      "source": [
        "import json\n",
        "import requests\n",
        "from sklearn.linear_model import LogisticRegression\n",
        "from sklearn.model_selection import cross_validate,LeaveOneOut,KFold\n",
        "import numpy as np"
      ],
      "execution_count": 9,
      "outputs": []
    },
    {
      "cell_type": "code",
      "metadata": {
        "id": "PzjMY8fYQbB6",
        "cellView": "both"
      },
      "source": [
        "# read in the movie review corpus\n",
        "def readReviews():\n",
        "  raw = requests.get(\"https://raw.githubusercontent.com/dasmiq/cs6120-assignment2/refs/heads/main/cornell_reviews.json\").text.strip()\n",
        "  corpus = [json.loads(line) for line in raw.split(\"\\n\")]\n",
        "\n",
        "  return corpus"
      ],
      "execution_count": 10,
      "outputs": []
    },
    {
      "cell_type": "markdown",
      "metadata": {
        "id": "Qvd3I95FT01D"
      },
      "source": [
        "This is where you will implement two functions to featurize the data."
      ]
    },
    {
      "cell_type": "code",
      "metadata": {
        "id": "039fPQcF7OkN"
      },
      "source": [
        "# TODO: Implement createBasicFeatures\n",
        "# NB: The current contents are for testing only\n",
        "# This function should return:\n",
        "#  -a sparse numpy matrix of document features\n",
        "#  -a list of the correct class for each document\n",
        "#  -a list of the vocabulary used by the features, such that the ith term of the\n",
        "#    list is the word whose counts appear in the ith column of the matrix.\n",
        "\n",
        "# This function should create a feature representation using all tokens that\n",
        "# contain an alphabetic character.\n",
        "import numpy as np\n",
        "from sklearn.feature_extraction.text import CountVectorizer, TfidfVectorizer\n",
        "from scipy.sparse import lil_matrix, csr_matrix\n",
        "import re\n",
        "# pprint.pprint(texts[1])\n",
        "def createBasicFeatures(corpus):\n",
        "  # Your code here\n",
        "  # create a list of tokens for each document\n",
        "  tokens = []\n",
        "  vocab = set()\n",
        "  for doc in corpus:\n",
        "    text = doc['text']\n",
        "    # add any alphbetic word with lowercase\n",
        "    tks = re.split(r'\\W+', text)\n",
        "    tks = [tk.lower() for tk in tks if tk and tk.isalpha()]\n",
        "    tokens.append(tks)\n",
        "    # collect unique tokens\n",
        "    vocab.update(set(tks))\n",
        "\n",
        "  vocab = list(vocab)\n",
        "  vocab_idx = {v: i for i, v in enumerate(vocab)}\n",
        "  # create a sparse matrix\n",
        "  texts = lil_matrix((len(corpus), len(vocab)), dtype=np.float64)\n",
        "  for i in range(len(tokens)):\n",
        "    tks = tokens[i]\n",
        "    for tk in tks:\n",
        "      texts[i, vocab_idx[tk]] += 1\n",
        "  texts = texts.tocsr()\n",
        "\n",
        "  # compare to count vectorizer\n",
        "  # vectorizer = CountVectorizer(token_pattern=r'\\b[a-zA-Z]+\\b', lowercase=True, min_df=1)\n",
        "  # texts = [txt['text'] for txt in corpus]\n",
        "  # texts = vectorizer.fit_transform(texts)\n",
        "  # vocab = vectorizer.get_feature_names_out().tolist()\n",
        "\n",
        "  classes = [txt['class'].lower() for txt in corpus]\n",
        "  return texts,classes,vocab"
      ],
      "execution_count": 32,
      "outputs": []
    },
    {
      "cell_type": "code",
      "source": [
        "# TODO: Implement createFancyFeatures andn describe in comments what the\n",
        "# features are and why they might ben helpful.\n",
        "# This function can add other features you want that help classification\n",
        "# accuracy, such as bigrams, word prefixes and suffixes, etc.\n",
        "def createFancyFeatures(corpus):\n",
        "  #Your code here\n",
        "  # using tfidf score for feature representation\n",
        "  vectorizer = TfidfVectorizer(\n",
        "    token_pattern=r'\\b[a-zA-Z]+\\b',\n",
        "    stop_words='english',\n",
        "    ngram_range=(1, 1),\n",
        "    lowercase=True,\n",
        "    use_idf=True,\n",
        "    smooth_idf=True,\n",
        "    sublinear_tf=True\n",
        "  )\n",
        "\n",
        "  print(\"n_gram range : {1, 1}\")\n",
        "  texts = [text['text'] for text in corpus]\n",
        "  classes = [text['class'].lower() for text in corpus]\n",
        "\n",
        "  texts = vectorizer.fit_transform(texts)\n",
        "  # get feature array in same ordering\n",
        "  vocab = vectorizer.get_feature_names_out().tolist()\n",
        "\n",
        "  return texts,classes,vocab"
      ],
      "metadata": {
        "id": "zWCw2sYesF_y"
      },
      "execution_count": 36,
      "outputs": []
    },
    {
      "cell_type": "code",
      "metadata": {
        "id": "KfTBqBltXe7Y"
      },
      "source": [
        "# given a numpy matrix representation of the features for the training set, the\n",
        "# vector of true classes for each example, and the vocabulary as described\n",
        "# above, this computes the accuracy of the model using leave one out cross\n",
        "# validation and reports the most indicative features for each class\n",
        "\n",
        "def evaluateModel(X,y,vocab,penalty=\"l1\"):\n",
        "  # create and fit the model\n",
        "  model = LogisticRegression(penalty=penalty,solver=\"liblinear\")\n",
        "  results = cross_validate(model,X,y,cv=KFold(n_splits=10, shuffle=True, random_state=1))\n",
        "\n",
        "  # determine the average accuracy\n",
        "  scores = results[\"test_score\"]\n",
        "  avg_score = sum(scores)/len(scores)\n",
        "\n",
        "  # determine the most informative features\n",
        "  # this requires us to fit the model to everything, because we need a\n",
        "  # single model to draw coefficients from, rather than 26\n",
        "  model.fit(X,y)\n",
        "  class0_weight_sorted = model.coef_[0, :].argsort()\n",
        "  class1_weight_sorted = (-model.coef_[0, :]).argsort()\n",
        "\n",
        "  termsToTake = 20\n",
        "  class0_indicators = [vocab[i] for i in class0_weight_sorted[:termsToTake]]\n",
        "  class1_indicators = [vocab[i] for i in class1_weight_sorted[:termsToTake]]\n",
        "\n",
        "  if model.classes_[0] == \"pos\":\n",
        "    return avg_score,class0_indicators,class1_indicators\n",
        "  else:\n",
        "    return avg_score,class1_indicators,class0_indicators\n",
        "\n",
        "def runEvaluation(X,y,vocab):\n",
        "  print(\"----------L1 Norm-----------\")\n",
        "  avg_score,pos_indicators,neg_indicators = evaluateModel(X,y,vocab,\"l1\")\n",
        "  print(\"The model's average accuracy is %f\"%avg_score)\n",
        "  print(\"The most informative terms for pos are: %s\"%pos_indicators)\n",
        "  print(\"The most informative terms for neg are: %s\"%neg_indicators)\n",
        "  #this call will fit a model with L2 normalization\n",
        "  print(\"----------L2 Norm-----------\")\n",
        "  avg_score,pos_indicators,neg_indicators = evaluateModel(X,y,vocab,\"l2\")\n",
        "  print(\"The model's average accuracy is %f\"%avg_score)\n",
        "  print(\"The most informative terms for pos are: %s\"%pos_indicators)\n",
        "  print(\"The most informative terms for neg are: %s\"%neg_indicators)"
      ],
      "execution_count": 13,
      "outputs": []
    },
    {
      "cell_type": "code",
      "metadata": {
        "id": "VWWq5VgmECKV"
      },
      "source": [
        "corpus = readReviews()"
      ],
      "execution_count": 14,
      "outputs": []
    },
    {
      "cell_type": "markdown",
      "metadata": {
        "id": "72OUet02TjBo"
      },
      "source": [
        "Run the following to train and evaluate two models using basic features:"
      ]
    },
    {
      "cell_type": "code",
      "metadata": {
        "id": "4IpJ7PKjvc8I",
        "colab": {
          "base_uri": "https://localhost:8080/",
          "height": 0
        },
        "outputId": "a9770a0f-4115-4049-c2b3-707ef6936c3a"
      },
      "source": [
        "X,y,vocab = createBasicFeatures(corpus)\n",
        "runEvaluation(X, y, vocab)"
      ],
      "execution_count": 30,
      "outputs": [
        {
          "output_type": "stream",
          "name": "stdout",
          "text": [
            "----------L1 Norm-----------\n",
            "The model's average accuracy is 0.826500\n",
            "The most informative terms for pos are: ['flaws', 'memorable', 'terrific', 'edge', 'sherri', 'excellent', 'perfectly', 'masterpiece', 'enjoyable', 'fun', 'using', 'overall', 'gas', 'solid', 'quite', 'command', 'different', 'fantastic', 'liar', 'follows']\n",
            "The most informative terms for neg are: ['waste', 'mess', 'ridiculous', 'lame', 'worst', 'headed', 'awful', 'unfortunately', 'cheap', 'write', 'boring', 'superior', 'tedious', 'bad', 'jesse', 'terrible', 'poor', 'maybe', 'looks', 'jakob']\n",
            "----------L2 Norm-----------\n",
            "The model's average accuracy is 0.832000\n",
            "The most informative terms for pos are: ['fun', 'back', 'great', 'quite', 'well', 'excellent', 'overall', 'seen', 'american', 'perfectly', 'yet', 'memorable', 'terrific', 'pulp', 'job', 'very', 'true', 'performances', 'different', 'solid']\n",
            "The most informative terms for neg are: ['bad', 'unfortunately', 'worst', 'waste', 'nothing', 'boring', 'only', 'script', 'awful', 'plot', 'reason', 'poor', 'looks', 'supposed', 'lame', 'mess', 'women', 'maybe', 'ridiculous', 'any']\n"
          ]
        }
      ]
    },
    {
      "cell_type": "markdown",
      "metadata": {
        "id": "4sjxLL2PTrJi"
      },
      "source": [
        "Run the following to train and evaluate two models using extended features:"
      ]
    },
    {
      "cell_type": "code",
      "metadata": {
        "id": "1iHudrPb5NPY",
        "colab": {
          "base_uri": "https://localhost:8080/",
          "height": 0
        },
        "outputId": "b823efaf-92ba-4587-d8ef-62777789e244"
      },
      "source": [
        "X,y,vocab = createFancyFeatures(corpus)\n",
        "runEvaluation(X, y, vocab)"
      ],
      "execution_count": 35,
      "outputs": [
        {
          "output_type": "stream",
          "name": "stdout",
          "text": [
            "n_gram range : {1, 1}\n",
            "----------L1 Norm-----------\n",
            "The model's average accuracy is 0.750000\n",
            "The most informative terms for pos are: ['great', 'life', 'perfectly', 'perfect', 'quite', 'seen', 'memorable', 'excellent', 'different', 'hilarious', 'performances', 'overall', 'performance', 'true', 'terrific', 'world', 'war', 'best', 'especially', 'jackie']\n",
            "The most informative terms for neg are: ['bad', 'worst', 'boring', 'supposed', 'waste', 'ridiculous', 'mess', 'awful', 'stupid', 'wasted', 'plot', 'script', 'reason', 'dull', 'unfortunately', 't', 'lame', 'looks', 'attempt', 'poor']\n",
            "----------L2 Norm-----------\n",
            "The model's average accuracy is 0.857000\n",
            "The most informative terms for pos are: ['great', 'life', 'perfect', 'hilarious', 'excellent', 'perfectly', 'memorable', 'terrific', 'quite', 'true', 'best', 'different', 'world', 'performances', 'performance', 'fun', 'especially', 'overall', 'wonderful', 'family']\n",
            "The most informative terms for neg are: ['bad', 'worst', 'boring', 'plot', 'supposed', 'stupid', 'script', 'waste', 'unfortunately', 'awful', 'reason', 'mess', 'ridiculous', 'poor', 'wasted', 't', 'looks', 'dull', 'lame', 'terrible']\n"
          ]
        }
      ]
    },
    {
      "cell_type": "markdown",
      "source": [
        "**TODO**: Briefly comment on your results. You do _not_ need to beat the basic features model to get full credit."
      ],
      "metadata": {
        "id": "hz4n7U-XsTE_"
      }
    },
    {
      "cell_type": "markdown",
      "source": [
        "| Feature Type | N-gram range | L1 Accuracy | L2 Accuracy |\n",
        "|:------------|:-------|------------:|------------:|\n",
        "| TF-IDF | (1, 1) | 75.00% | **85.70%** |\n",
        "| TF-IDF | (1, 2) | 67.15% | 83.60% |\n",
        "| TF-IDF | (2, 2) | 48.30% | 77.35% |\n",
        "| Raw Frequencies | (1, 1) | **82.65%** | 83.20% |"
      ],
      "metadata": {
        "id": "Yce0V8a8lpAS"
      }
    },
    {
      "cell_type": "markdown",
      "source": [
        "Based on the Table,\n",
        "\n",
        "1.   BaseFeature (Raw Frequencies) implementation has the highest accuracy in L1 regularization while Fancyfeature (TF-IDF) implementation has the highest accuracy in L2 regularization.\n",
        "2.   Fancyfeature shows much more improvement with L2 vs L1 (10.7% increase from 0.75 to 0.857), while BaseFeature performs more consistently across both regularizations. This occurs because L1 on TF-IDF creates a 'double penalty' effect by removing rare words that may have rich sentiment.BaseFeature avoids this as common sentiment words maintain high counts\n",
        "that survive L1's feature selection.\n",
        "3.   In this case unigram models have the best performance, indicating that the given corpus has direct sentiment expressions rather than complex contextual patterns.\n",
        "\n",
        "\n"
      ],
      "metadata": {
        "id": "jRtcAWArniJo"
      }
    }
  ]
}