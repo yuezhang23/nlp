{
  "nbformat": 4,
  "nbformat_minor": 0,
  "metadata": {
    "colab": {
      "name": "PS1-Shakespeare.ipynb",
      "provenance": [],
      "include_colab_link": true
    },
    "kernelspec": {
      "name": "python3",
      "display_name": "Python 3"
    }
  },
  "cells": [
    {
      "cell_type": "markdown",
      "metadata": {
        "id": "view-in-github",
        "colab_type": "text"
      },
      "source": [
        "<a href=\"https://colab.research.google.com/github/yuezhang23/nlp/blob/main/shakespeare.ipynb\" target=\"_parent\"><img src=\"https://colab.research.google.com/assets/colab-badge.svg\" alt=\"Open In Colab\"/></a>"
      ]
    },
    {
      "cell_type": "markdown",
      "metadata": {
        "id": "ghmXbcymaHxC"
      },
      "source": [
        "# Interpreting Classifier Weights\n",
        "\n",
        "In this experiment, you will train models to distringuish examples of two different genres of Shakespeare's plays: comedies and tragedies. (We'll ignore the histories, sonnets, etc.) Since he died four hundred years ago, Shakespeare has not written any more plays—although scraps of various other works have come to light. We are not, therefore, interested in building models simply to help categorize an unbounded stream of future documents, as we might be in other applications of text classification; rather, we are interested in what a classifier might have to tell us about what we mean by the terms “comedy” and “tragedy”.\n",
        "\n",
        "You will start by copying and running your `createBasicFeatures` function from the experiment with movie reviews. Do the features the classifier focuses on tell you much about comedy and tragedy in general?\n",
        "\n",
        "You will then implement another featurization function `createInterestingFeatures`, which will focus on only those features you think are informative for distinguishing between comedy and tragedy. Accuracy on leave-one-out cross-validation may go up, but it more important to look at the features given the highest weight by the classifier. Interpretability in machine learning, of course, may be harder to define than accuracy—although accuracy at some tasks is hard enoough."
      ]
    },
    {
      "cell_type": "code",
      "metadata": {
        "id": "AdVS67_HNRmW"
      },
      "source": [
        "import json\n",
        "import requests\n",
        "from sklearn.linear_model import LogisticRegression\n",
        "from sklearn.model_selection import cross_validate,LeaveOneOut\n",
        "import numpy as np"
      ],
      "execution_count": 88,
      "outputs": []
    },
    {
      "cell_type": "code",
      "metadata": {
        "id": "PzjMY8fYQbB6"
      },
      "source": [
        "#read in the shakespeare corpus\n",
        "def readShakespeare():\n",
        "  raw = requests.get(\"https://raw.githubusercontent.com/dasmiq/cs6120-assignment2/refs/heads/main/shakespeare_plays.json\").text.strip()\n",
        "  corpus = [json.loads(line) for line in raw.split(\"\\n\")]\n",
        "\n",
        "  #remove histories from the data, as we're only working with tragedies and comedies\n",
        "  corpus = [entry for entry in corpus if entry[\"genre\"] != \"history\"]\n",
        "  return corpus"
      ],
      "execution_count": 89,
      "outputs": []
    },
    {
      "cell_type": "markdown",
      "metadata": {
        "id": "v0r3oL3TdHIU"
      },
      "source": [
        "This is where you will implement two functions to featurize the data:"
      ]
    },
    {
      "cell_type": "code",
      "metadata": {
        "id": "039fPQcF7OkN"
      },
      "source": [
        "# TODO: Implement createBasicFeatures\n",
        "# NB: The current contents are for testing only\n",
        "# This function should return:\n",
        "#  -a sparse numpy matrix of document features\n",
        "#  -a list of the correct genre for each document\n",
        "#  -a list of the vocabulary used by the features, such that the ith term of the\n",
        "#    list is the word whose counts appear in the ith column of the matrix.\n",
        "\n",
        "# This function should create a feature representation using all tokens that\n",
        "# contain an alphabetic character.\n",
        "import json\n",
        "import requests\n",
        "import re\n",
        "from scipy.sparse import lil_matrix, csr_matrix\n",
        "from sklearn.linear_model import LogisticRegression\n",
        "from sklearn.model_selection import cross_validate,LeaveOneOut\n",
        "import numpy as np\n",
        "def createBasicFeatures(corpus):\n",
        "  #Your code here\n",
        "  texts = [text['text'] for text in corpus]\n",
        "  genres = [text['genre'] for text in corpus]\n",
        "\n",
        "  tokens = []\n",
        "  vocab = set()\n",
        "  for txt in texts:\n",
        "    tks = re.split(r'\\W+', txt)\n",
        "    tks = [tk.lower() for tk in tks if tk and tk.isalpha()]\n",
        "    tokens.append(tks)\n",
        "    # collect unique tokens\n",
        "    vocab.update(set(tks))\n",
        "\n",
        "  vocab = list(vocab)\n",
        "  vocab_idx = {v: i for i, v in enumerate(vocab)}\n",
        "  # create a sparse matrix\n",
        "  texts = lil_matrix((len(corpus), len(vocab)), dtype=np.float64)\n",
        "  for i in range(len(tokens)):\n",
        "    tks = tokens[i]\n",
        "    for tk in tks:\n",
        "      texts[i, vocab_idx[tk]] += 1\n",
        "  texts = texts.tocsr()\n",
        "  return texts,genres,vocab"
      ],
      "execution_count": 90,
      "outputs": []
    },
    {
      "cell_type": "code",
      "source": [
        "# TODO: Implement createInterestingFeatures. Describe your features and what\n",
        "# they might tell you about the difference between comedy and tragedy.\n",
        "# This function can add other features you want that help classification\n",
        "# accuracy, such as bigrams, word prefixes and suffixes, etc.\n",
        "from sklearn.feature_extraction.text import TfidfVectorizer, CountVectorizer\n",
        "def createInterestingFeatures(corpus):\n",
        "  #Your code here\n",
        "  genres = [text['genre'] for text in corpus]\n",
        "\n",
        "  def countFeaturesByNgram(text, n):\n",
        "    \"\"\"\n",
        "      Extract n-grams from text and build a vocabulary of unique n-grams.\n",
        "\n",
        "      Args:\n",
        "          text (str): Input text to process\n",
        "          n (int): Size of n-grams to extract (e.g., 1 for unigrams, 2 for bigrams)\n",
        "\n",
        "      Returns:\n",
        "          tuple: A tuple containing:\n",
        "              - n_tokens (list): List of all n-gram tuples extracted from the text\n",
        "              - vocab (set): Set of unique n-gram tuples\n",
        "    \"\"\"\n",
        "    vocab = set()\n",
        "    n_tokens = []\n",
        "    tks = re.findall(r'\\b[a-zA-Z]+\\b', text.lower())\n",
        "    for r in range(len(tks) - n + 1):\n",
        "      n_gram = tuple(tks[r : r + n])\n",
        "      n_tokens.append(n_gram)\n",
        "      vocab.add(n_gram)\n",
        "    return n_tokens, vocab\n",
        "\n",
        "  vocab = set()\n",
        "  tokens = []\n",
        "  for txt in corpus:\n",
        "    text = txt['text']\n",
        "    # keep only bigram to represent features\n",
        "    tks, voc = countFeaturesByNgram(text, 2)\n",
        "    vocab.update(voc)\n",
        "    tokens.append(tks)\n",
        "\n",
        "  vocab = list(vocab)\n",
        "  vocab_idx = {v: i for i, v in enumerate(vocab)}\n",
        "  # create a sparse matrix\n",
        "  texts = lil_matrix((len(corpus), len(vocab)), dtype=np.float64)\n",
        "  for i in range(len(tokens)):\n",
        "    tks = tokens[i]\n",
        "    for tk in tks:\n",
        "      texts[i, vocab_idx[tk]] += 1\n",
        "  texts = texts.tocsr()\n",
        "  return texts,genres,vocab\n"
      ],
      "metadata": {
        "id": "JqjQVGuL4qYs"
      },
      "execution_count": 98,
      "outputs": []
    },
    {
      "cell_type": "code",
      "metadata": {
        "id": "KfTBqBltXe7Y"
      },
      "source": [
        "#given a numpy matrix representation of the features for the training set, the\n",
        "# vector of true classes for each example, and the vocabulary as described\n",
        "# above, this computes the accuracy of the model using leave one out cross\n",
        "# validation and reports the most indicative features for each class\n",
        "def evaluateModel(X,y,vocab,penalty=\"l1\"):\n",
        "  #create and fit the model\n",
        "  model = LogisticRegression(penalty=penalty,solver=\"liblinear\")\n",
        "  results = cross_validate(model,X,y,cv=LeaveOneOut())\n",
        "\n",
        "  #determine the average accuracy\n",
        "  scores = results[\"test_score\"]\n",
        "  avg_score = sum(scores)/len(scores)\n",
        "\n",
        "  #determine the most informative features\n",
        "  # this requires us to fit the model to everything, because we need a\n",
        "  # single model to draw coefficients from, rather than 26\n",
        "  model.fit(X,y)\n",
        "  neg_class_prob_sorted = model.coef_[0, :].argsort()\n",
        "  pos_class_prob_sorted = (-model.coef_[0, :]).argsort()\n",
        "  # pos_class_prob_sorted = (model.coef_[0, :]).argsort()\n",
        "\n",
        "  termsToTake = 20\n",
        "  pos_indicators = [vocab[i] for i in neg_class_prob_sorted[:termsToTake]]\n",
        "  neg_indicators = [vocab[i] for i in pos_class_prob_sorted[:termsToTake]]\n",
        "\n",
        "  return avg_score,pos_indicators,neg_indicators\n",
        "\n",
        "def runEvaluation(X,y,vocab):\n",
        "  print(\"----------L1 Norm-----------\")\n",
        "  avg_score,pos_indicators,neg_indicators = evaluateModel(X,y,vocab,\"l1\")\n",
        "  print(\"The model's average accuracy is %f\"%avg_score)\n",
        "  print(\"The most informative terms for pos are: %s\"%pos_indicators)\n",
        "  print(\"The most informative terms for neg are: %s\"%neg_indicators)\n",
        "  #this call will fit a model with L2 normalization\n",
        "  print(\"----------L2 Norm-----------\")\n",
        "  avg_score,pos_indicators,neg_indicators = evaluateModel(X,y,vocab,\"l2\")\n",
        "  print(\"The model's average accuracy is %f\"%avg_score)\n",
        "  print(\"The most informative terms for pos are: %s\"%pos_indicators)\n",
        "  print(\"The most informative terms for neg are: %s\"%neg_indicators)\n"
      ],
      "execution_count": 92,
      "outputs": []
    },
    {
      "cell_type": "code",
      "metadata": {
        "id": "mtlbg_aqdcW_"
      },
      "source": [
        "corpus = readShakespeare()"
      ],
      "execution_count": 93,
      "outputs": []
    },
    {
      "cell_type": "markdown",
      "metadata": {
        "id": "vpCqIhiqdhen"
      },
      "source": [
        "Run the following to train and evaluate two models with basic features:"
      ]
    },
    {
      "cell_type": "code",
      "metadata": {
        "id": "4IpJ7PKjvc8I",
        "outputId": "c0b83dd9-d53b-457d-ab97-b0d7e011ef44",
        "colab": {
          "base_uri": "https://localhost:8080/",
          "height": 0
        }
      },
      "source": [
        "X,y,vocab = createBasicFeatures(corpus)\n",
        "runEvaluation(X, y, vocab)"
      ],
      "execution_count": 94,
      "outputs": [
        {
          "output_type": "stream",
          "name": "stdout",
          "text": [
            "----------L1 Norm-----------\n",
            "The model's average accuracy is 0.653846\n",
            "The most informative terms for pos are: ['helena', 'prospero', 'sir', 'duke', 'you', 'i', 'leontes', 'your', 'a', 'of', 'chastity', 'solemnities', 'imprison', 'farmhouse', 'honesty', 'dost', 'goeth', 'opposers', 'quarrelsome', 'laurence']\n",
            "The most informative terms for neg are: ['him', 's', 'iago', 'our', 'imogen', 'brutus', 'lear', 'o', 'ham', 'rom', 'what', 'thy', 'and', 'the', 'produced', 'dost', 'goeth', 'opposers', 'quarrelsome', 'desk']\n",
            "----------L2 Norm-----------\n",
            "The model's average accuracy is 0.769231\n",
            "The most informative terms for pos are: ['i', 'you', 'duke', 'prospero', 'a', 'helena', 'your', 'antonio', 'sir', 'leontes', 'hermia', 'for', 'lysander', 'ariel', 'sebastian', 'demetrius', 'camillo', 'stephano', 'me', 'parolles']\n",
            "The most informative terms for neg are: ['iago', 'othello', 's', 'him', 'imogen', 'what', 'lear', 'brutus', 'his', 'cassio', 'o', 'ham', 'our', 'desdemona', 'rom', 'romeo', 'posthumus', 'nurse', 'caesar', 'thy']\n"
          ]
        }
      ]
    },
    {
      "cell_type": "markdown",
      "metadata": {
        "id": "_FmW9F6ZdoyM"
      },
      "source": [
        "Run the following to train and evaluate two models with features that are interesting for distinguishing comedy and tragedy:"
      ]
    },
    {
      "cell_type": "code",
      "metadata": {
        "id": "BW0Ajs2MdtIC",
        "outputId": "6fb83197-695f-4477-8afa-36465e4c0870",
        "colab": {
          "base_uri": "https://localhost:8080/",
          "height": 0
        }
      },
      "source": [
        "X,y,vocab = createInterestingFeatures(corpus)\n",
        "runEvaluation(X, y, vocab)"
      ],
      "execution_count": 95,
      "outputs": [
        {
          "output_type": "stream",
          "name": "stdout",
          "text": [
            "----------L1 Norm-----------\n",
            "The model's average accuracy is 0.730769\n",
            "The most informative terms for pos are: [('not', 'a'), ('and', 'i'), ('you', 'have'), ('to', 'me'), ('the', 'duke'), ('she', 'is'), ('me', 'and'), ('if', 'you'), ('which', 'is'), ('i', 'am'), ('my', 'love'), ('the', 'king'), ('sir', 'toby'), ('of', 'syracuse'), ('as', 'you'), ('busines', 'i'), ('redemption', 'angelo'), ('ever', 'with'), ('accoutrements', 'as'), ('such', 'eyes')]\n",
            "The most informative terms for neg are: [('the', 'gods'), ('art', 'thou'), ('the', 'moor'), ('give', 'me'), ('lady', 'macbeth'), ('to', 'the'), ('my', 'lord'), ('know', 'not'), ('orts', 'of'), ('dare', 'not'), ('worthy', 'fool'), ('me', 'madam'), ('courtesy', 'rom'), ('sleep', 'roderigo'), ('whom', 'three'), ('roman', 'yoke'), ('swords', 'bold'), ('busines', 'i'), ('impostor', 'that'), ('afeard', 'to')]\n",
            "----------L2 Norm-----------\n",
            "The model's average accuracy is 0.807692\n",
            "The most informative terms for pos are: [('the', 'duke'), ('sir', 'toby'), ('i', 'am'), ('if', 'you'), ('and', 'i'), ('princess', 'of'), ('i', 'pray'), ('of', 'france'), ('sir', 'i'), ('she', 'is'), ('of', 'syracuse'), ('a', 'good'), ('in', 'love'), ('of', 'a'), ('to', 'her'), ('i', 'will'), ('the', 'king'), ('my', 'love'), ('antipholus', 'of'), ('you', 'will')]\n",
            "The most informative terms for neg are: [('my', 'lord'), ('to', 'the'), ('the', 'gods'), ('lady', 'macbeth'), ('caesar', 's'), ('the', 'people'), ('good', 'night'), ('with', 'his'), ('of', 'rome'), ('the', 'moor'), ('art', 'thou'), ('of', 'our'), ('to', 'thee'), ('in', 'his'), ('know', 'not'), ('first', 'senator'), ('give', 'me'), ('the', 'emperor'), ('exeunt', 'scene'), ('there', 's')]\n"
          ]
        }
      ]
    },
    {
      "cell_type": "markdown",
      "source": [
        "**TODO**: Based on the most informative features in the output of the classifier evaluation, what do these classifiers tell you about the differences between comedy and tragedy?"
      ],
      "metadata": {
        "id": "HztZ_0V55M_K"
      }
    },
    {
      "cell_type": "markdown",
      "source": [
        "Based on most informative features from bigram features:\n",
        "*   most features from unigram or bigram, if without given context, look neutral in sentiment.\n",
        "*   Comedies: Feature characters like \"the duke,\" \"sir toby\" (Twelfth Night), \"princess of,\" \"of france\" (Love's Labour's Lost), \"of syracuse\" (Comedy of Errors) - showing lighter, romantic, or mistaken-identity plots.\n",
        "*   Tragedies: Feature \"my lord,\" \"lady macbeth,\" \"caesar's,\" \"the moor\" (Othello), \"the gods\" - showing more formal address, historical/political figures, and darker themes.\n",
        "*   L1 Prefers Longer N-grams while L2 Prefers Shorter N-grams. This shows Shakespeare genre classification benefits from considering multiple bigram patterns together (L2 with bigrams).\n",
        "\n",
        "| Feature Type | N-gram Range | L1 Accuracy | L2 Accuracy |\n",
        "|:------------|:-------|------------:|------------:|\n",
        "| Raw Frequencies | (1, 1) | 61.54% | 76.92% |\n",
        "| Raw Frequencies | (2, 2) | 69.23% | **80.77%** |\n",
        "| Raw Frequencies | (3, 3)| **76.92%** | 53.85% |"
      ],
      "metadata": {
        "id": "oftSt2CdvnRW"
      }
    }
  ]
}